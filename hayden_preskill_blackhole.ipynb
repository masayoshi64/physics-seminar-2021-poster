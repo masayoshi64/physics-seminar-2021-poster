{
 "metadata": {
  "language_info": {
   "codemirror_mode": {
    "name": "ipython",
    "version": 3
   },
   "file_extension": ".py",
   "mimetype": "text/x-python",
   "name": "python",
   "nbconvert_exporter": "python",
   "pygments_lexer": "ipython3",
   "version": "3.7.1"
  },
  "orig_nbformat": 2,
  "kernelspec": {
   "name": "python3",
   "display_name": "Python 3.7.1 64-bit ('rinko': venv)"
  },
  "metadata": {
   "interpreter": {
    "hash": "9060eb43163d85b2a9eb18d1d98b2c189a491170f1022b2dfb4e181f36ff0bb1"
   }
  },
  "interpreter": {
   "hash": "05117e234e2973d3e63eee139579ffef83c5ef1aedea3fd23652b0699aba41ef"
  }
 },
 "nbformat": 4,
 "nbformat_minor": 2,
 "cells": [
  {
   "source": [
    "import qulacs\n",
    "from qulacs import QuantumState, QuantumCircuit\n",
    "from qulacs.state import partial_trace\n",
    "from qulacs.gate import DenseMatrix\n",
    "import numpy as np\n",
    "import numpy.linalg as npl\n",
    "from scipy.linalg import expm\n",
    "import matplotlib.pyplot as plt\n",
    "%matplotlib inline"
   ],
   "cell_type": "code",
   "metadata": {},
   "execution_count": 11,
   "outputs": []
  },
  {
   "cell_type": "code",
   "execution_count": 20,
   "metadata": {},
   "outputs": [],
   "source": [
    "# [0, k): Charlie\n",
    "# [k, 2k): Alice\n",
    "# [2k, n+k): Black hole -> [k, n+k)\n",
    "class YoungBlackHole():\n",
    "    def __init__(self, n, k, dynamics, depth=-1):\n",
    "        self.n = n\n",
    "        self.k = k\n",
    "        self.size = n + k\n",
    "        self.dynamics = dynamics\n",
    "        self.depth=depth\n",
    "        self.reset()\n",
    "    def reset(self):\n",
    "        n, k = self.n, self.k\n",
    "        dynamics = self.dynamics\n",
    "        depth = self.depth\n",
    "        self.state = QuantumState(n + k)\n",
    "        self.circuit = QuantumCircuit(n + k)\n",
    "        for i in range(k):\n",
    "            self.circuit.add_H_gate(i)\n",
    "            self.circuit.add_CNOT_gate(i, i + k)\n",
    "        if dynamics == \"lrc\":\n",
    "            self.add_LRC(k, n+k, depth)\n",
    "        elif dynamics == \"haar\":\n",
    "            self.circuit.add_random_unitary_gate(list(range(k, n+k)))\n",
    "        elif dynamics[:10] == \"heisenberg\":\n",
    "            self.add_Heisenberg(k, n+k, depth, dynamics[10:])\n",
    "    def update(self):\n",
    "        self.circuit.update_quantum_state(self.state)\n",
    "    def add_LRC(self, l, r, depth):\n",
    "        assert depth>=0 \n",
    "        for d in range(depth):\n",
    "            for i in range(l + d % 2, r - 1, 2):\n",
    "                self.circuit.add_random_unitary_gate([i, i + 1])\n",
    "    def add_Heisenberg(self, l, r, t, cc):\n",
    "        size = r-l\n",
    "        X = np.array([[0, 1],[1, 0]])\n",
    "        Y = np.array([[0, -1j],[1j, 0]])\n",
    "        Z = np.array([[1, 0],[0, -1]])\n",
    "        H = np.zeros((1<<size, 1<<size), dtype='complex128')\n",
    "        for i in range(l, r-1):\n",
    "            Jx, Jy, Jz = self.get_coupling_constants(cc)\n",
    "            print(Jx)\n",
    "            M = Jx*np.kron(X, X)+Jy*np.kron(Y, Y)+Jz*np.kron(Z, Z)\n",
    "            if i > k:\n",
    "                M = np.kron(np.identity(1<<(i-l)), M)\n",
    "            if i+2 < r:\n",
    "                M = np.kron(M, np.identity(1<<(r-i-2)))\n",
    "            H+=M\n",
    "        U = DenseMatrix(list(range(l, r)), expm(-1j*t*H))\n",
    "        self.circuit.add_gate(U)\n",
    "    def get_coupling_constants(self, s):\n",
    "        if len(s) == 3:\n",
    "            return list(map(int, list(s)))\n",
    "        return np.random.random(3)\n",
    "    # l1 norm\n",
    "    def L1(self, l):\n",
    "        n, k = self.n, self.k\n",
    "        mat_size = pow(2, n+k-l)\n",
    "        trace = partial_trace(self.state, list(range(n + k - l, n + k)))\n",
    "        return npl.norm(trace.get_matrix() - np.identity(mat_size)/mat_size, 'nuc')\n",
    "    # mutual information\n",
    "    def MI(self, l):\n",
    "        n, k = self.n, self.k\n",
    "        AB = partial_trace(self.state, list(range(k, n + k - l)))\n",
    "        A = partial_trace(self.state, list(range(k, n + k)))\n",
    "        B = partial_trace(self.state, list(range(0, n + k -l)))\n",
    "        return self.S(A)+self.S(B)-self.S(AB)\n",
    "    # entropy\n",
    "    def S(self, rho):\n",
    "        if rho is None:\n",
    "            return 0\n",
    "        mat = rho.get_matrix()\n",
    "        eig_vals = npl.eigvalsh(mat)\n",
    "        return -(eig_vals * np.log2(eig_vals+0.000001)).sum()"
   ]
  },
  {
   "cell_type": "code",
   "execution_count": 21,
   "metadata": {},
   "outputs": [],
   "source": [
    "# simulator for young black hole\n",
    "def simulate(model, l_max, iter_num):\n",
    "    data_MI = np.zeros((l_max + 1, iter_num))\n",
    "    data_L1 = np.zeros((l_max + 1, iter_num))\n",
    "    for l in range(l_max + 1):\n",
    "        mat_size = pow(2, n+k-l)\n",
    "        for i in range(iter_num):\n",
    "            if i%10 == 0: print(f\"l={l}:{i}-th iteration\")\n",
    "            state = QuantumState(model.size)\n",
    "            model.update()\n",
    "            data_MI[l][i] = model.MI(l)\n",
    "            data_L1[l][i] = model.L1(l)\n",
    "            model.reset()\n",
    "    return data_MI, data_L1\n",
    "def plot_data(data):\n",
    "    fig = plt.figure()\n",
    "    ax = fig.add_subplot()\n",
    "    ax.plot(np.average(data, axis=1))\n",
    "    return fig\n",
    "def save_data(data, path):\n",
    "    np.savetxt(\"data/\"+path, data, delimiter=',')"
   ]
  },
  {
   "cell_type": "code",
   "execution_count": null,
   "metadata": {},
   "outputs": [],
   "source": []
  }
 ]
}