{
 "metadata": {
  "language_info": {
   "codemirror_mode": {
    "name": "ipython",
    "version": 3
   },
   "file_extension": ".py",
   "mimetype": "text/x-python",
   "name": "python",
   "nbconvert_exporter": "python",
   "pygments_lexer": "ipython3",
   "version": "3.7.1"
  },
  "orig_nbformat": 2,
  "kernelspec": {
   "name": "python3",
   "display_name": "Python 3.7.1 64-bit ('rinko': venv)"
  },
  "metadata": {
   "interpreter": {
    "hash": "9060eb43163d85b2a9eb18d1d98b2c189a491170f1022b2dfb4e181f36ff0bb1"
   }
  },
  "interpreter": {
   "hash": "05117e234e2973d3e63eee139579ffef83c5ef1aedea3fd23652b0699aba41ef"
  }
 },
 "nbformat": 4,
 "nbformat_minor": 2,
 "cells": [
  {
   "source": [
    "import qulacs\n",
    "from qulacs import QuantumState, QuantumCircuit\n",
    "from qulacs.state import partial_trace\n",
    "from qulacs.gate import DenseMatrix\n",
    "import numpy as np\n",
    "import numpy.linalg as npl\n",
    "from scipy.linalg import expm\n",
    "import matplotlib.pyplot as plt\n",
    "%matplotlib inline"
   ],
   "cell_type": "code",
   "metadata": {},
   "execution_count": 25,
   "outputs": []
  },
  {
   "cell_type": "code",
   "execution_count": 107,
   "metadata": {},
   "outputs": [],
   "source": [
    "# [0, k): Charlie\n",
    "# [k, 2k): Alice\n",
    "# [2k, n+k): Black hole -> [k, n+k)\n",
    "class YoungBlackHole():\n",
    "    # dynamicsがheisenbergの時は末尾に一桁の整数をつけると結合定数が指定できる\n",
    "    # ex) heisenberg123 -> Jx = 1, Jy = 2, Jz = 3\n",
    "    # いい感じの実装になおしたい気もする\n",
    "    def __init__(self, n, k, dynamics, depth=-1):\n",
    "        self.n = n\n",
    "        self.k = k\n",
    "        self.size = n + k\n",
    "        self.dynamics = dynamics\n",
    "        self.depth=depth\n",
    "        self.reset()\n",
    "\n",
    "    def reset(self):\n",
    "        n, k = self.n, self.k\n",
    "        dynamics = self.dynamics\n",
    "        depth = self.depth\n",
    "        self.state = QuantumState(n + k)\n",
    "        self.circuit = QuantumCircuit(n + k)\n",
    "        for i in range(k):\n",
    "            self.circuit.add_H_gate(i)\n",
    "            self.circuit.add_CNOT_gate(i, i + k)\n",
    "        if dynamics == \"lrc\":\n",
    "            self.add_LRC(k, n+k, depth)\n",
    "        elif dynamics == \"haar\":\n",
    "            self.circuit.add_random_unitary_gate(list(range(k, n+k)))\n",
    "        elif dynamics[:10] == \"heisenberg\":\n",
    "            self.add_Heisenberg(k, n+k, depth, dynamics[10:])\n",
    "        else:\n",
    "            print(\"invalid dynamics type\")\n",
    "\n",
    "    def update(self):\n",
    "        self.circuit.update_quantum_state(self.state)\n",
    "\n",
    "    def add_LRC(self, l, r, depth):\n",
    "        assert depth>=0 \n",
    "        for d in range(depth):\n",
    "            for i in range(l + d % 2, r - 1, 2):\n",
    "                self.circuit.add_random_unitary_gate([i, i + 1])\n",
    "\n",
    "    def add_Heisenberg(self, l, r, t, cc):\n",
    "        size = r-l\n",
    "        X = np.array([[0, 1],[1, 0]])\n",
    "        Y = np.array([[0, -1j],[1j, 0]])\n",
    "        Z = np.array([[1, 0],[0, -1]])\n",
    "        H = np.zeros((1<<size, 1<<size), dtype='complex128')\n",
    "        for i in range(l, r-1):\n",
    "            Jx, Jy, Jz = self.get_coupling_constants(cc)\n",
    "            print(Jx)\n",
    "            M = Jx*np.kron(X, X)+Jy*np.kron(Y, Y)+Jz*np.kron(Z, Z)\n",
    "            if i > k:\n",
    "                M = np.kron(np.identity(1<<(i-l)), M)\n",
    "            if i+2 < r:\n",
    "                M = np.kron(M, np.identity(1<<(r-i-2)))\n",
    "            H+=M\n",
    "        U = DenseMatrix(list(range(l, r)), expm(-1j*t*H))\n",
    "        self.circuit.add_gate(U)\n",
    "\n",
    "    def get_coupling_constants(self, s):\n",
    "        if len(s) == 3:\n",
    "            return list(map(int, list(s)))\n",
    "        return np.random.random(3)\n",
    "\n",
    "    # l1 norm\n",
    "    def L1(self, rad_qubits):\n",
    "        n, k = self.n, self.k\n",
    "        l = len(rad_qubits)\n",
    "        mat_size = pow(2, n+k-l)\n",
    "        trace = partial_trace(self.state, rad_qubits)\n",
    "        return npl.norm(trace.get_matrix() - np.identity(mat_size)/mat_size, 'nuc')\n",
    "\n",
    "    # mutual information\n",
    "    def MI(self, rad_qubits):\n",
    "        n, k = self.n, self.k\n",
    "        l = len(rad_qubits)\n",
    "        b_qubits = list(filter(lambda x:x not in rad_qubits, range(k, n+k)))\n",
    "        a_qubits = list(range(k, n + k))\n",
    "        AB = partial_trace(self.state, b_qubits)\n",
    "        A = partial_trace(self.state, list(range(k, n + k)))\n",
    "        B = partial_trace(self.state, a_qubits+b_qubits)\n",
    "        return self.S(A)+self.S(B)-self.S(AB)\n",
    "\n",
    "    # coherent information\n",
    "    def CI(self, rad_qubits):\n",
    "        n, k = self.n, self.k\n",
    "        b_qubits = list(filter(lambda x:x not in rad_qubits, range(k, n+k)))\n",
    "        a_qubits = list(range(k, n + k))\n",
    "        AB = partial_trace(self.state, b_qubits)\n",
    "        A = partial_trace(self.state, a_qubits)\n",
    "        return self.S(A) - self.S(AB)\n",
    "\n",
    "    # entropy\n",
    "    def S(self, rho):\n",
    "        if rho is None:\n",
    "            return 0\n",
    "        mat = rho.get_matrix()\n",
    "        eig_vals = npl.eigvalsh(mat)\n",
    "        return -(eig_vals * np.log2(eig_vals+0.000001)).sum()"
   ]
  },
  {
   "cell_type": "code",
   "execution_count": 108,
   "metadata": {},
   "outputs": [],
   "source": [
    "# simulator for young black hole\n",
    "def simulate(model, l_max, iter_num):\n",
    "    data_MI = np.zeros((l_max + 1, iter_num))\n",
    "    data_L1 = np.zeros((l_max + 1, iter_num))\n",
    "    data_CI = np.zeros((l_max + 1, iter_num))\n",
    "    for i in range(iter_num):\n",
    "        rad_qubits = []\n",
    "        for l in range(l_max + 1):\n",
    "            if i%10 == 0: print(f\"l={l}:{i}-th iteration\")\n",
    "            mat_size = pow(2, n+k-l)\n",
    "            state = QuantumState(model.size)\n",
    "            model.update()\n",
    "            rad_qubits = np.random.randint(k, n+k, l)\n",
    "            data_L1[l][i] = model.L1(rad_qubits)\n",
    "            data_MI[l][i] = model.MI(rad_qubits)\n",
    "            data_CI[l][i] = model.CI(rad_qubits)\n",
    "            model.reset()\n",
    "    return data_L1, data_MI, data_CI\n",
    "\n",
    "# iter_num = 1だとバグるかも\n",
    "def plot_data(data):\n",
    "    fig = plt.figure()\n",
    "    ax = fig.add_subplot()\n",
    "    ax.plot(np.average(data[0], axis=1), label='L1 norm')\n",
    "    ax.plot(np.average(data[1], axis=1), label='mutual infomation')\n",
    "    ax.plot(np.average(data[2], axis=1), label='coherent information')\n",
    "    ax.legend(loc='lower right')\n",
    "    return fig\n",
    "\n",
    "def save_data(data, path):\n",
    "    np.savetxt(\"data/\"+path+\"/data_L1.csv\", data[0], delimiter=',')\n",
    "    np.savetxt(\"data/\"+path+\"/data_MI.csv\", data[1], delimiter=',')\n",
    "    np.savetxt(\"data/\"+path+\"/data_CI.csv\", data[2], delimiter=',')\n",
    "\n",
    "def load_data(path):\n",
    "    return [np.loadtxt(\"data/\"+path+\"/data_L1.csv\", delimiter=','),\n",
    "            np.loadtxt(\"data/\"+path+\"/data_MI.csv\", delimiter=','),\n",
    "            np.loadtxt(\"data/\"+path+\"/data_CI.csv\", delimiter=',')]"
   ]
  },
  {
   "cell_type": "code",
   "execution_count": 109,
   "metadata": {},
   "outputs": [
    {
     "output_type": "stream",
     "name": "stdout",
     "text": [
      "l=0:0-th iteration\n",
      "l=1:0-th iteration\n",
      "l=2:0-th iteration\n",
      "l=3:0-th iteration\n",
      "l=4:0-th iteration\n",
      "l=5:0-th iteration\n",
      "l=6:0-th iteration\n",
      "l=7:0-th iteration\n",
      "l=8:0-th iteration\n",
      "l=9:0-th iteration\n"
     ]
    },
    {
     "output_type": "display_data",
     "data": {
      "text/plain": "<Figure size 432x288 with 1 Axes>",
      "image/svg+xml": "<?xml version=\"1.0\" encoding=\"utf-8\" standalone=\"no\"?>\n<!DOCTYPE svg PUBLIC \"-//W3C//DTD SVG 1.1//EN\"\n  \"http://www.w3.org/Graphics/SVG/1.1/DTD/svg11.dtd\">\n<svg height=\"248.518125pt\" version=\"1.1\" viewBox=\"0 0 370.942187 248.518125\" width=\"370.942187pt\" xmlns=\"http://www.w3.org/2000/svg\" xmlns:xlink=\"http://www.w3.org/1999/xlink\">\n <metadata>\n  <rdf:RDF xmlns:cc=\"http://creativecommons.org/ns#\" xmlns:dc=\"http://purl.org/dc/elements/1.1/\" xmlns:rdf=\"http://www.w3.org/1999/02/22-rdf-syntax-ns#\">\n   <cc:Work>\n    <dc:type rdf:resource=\"http://purl.org/dc/dcmitype/StillImage\"/>\n    <dc:date>2021-07-10T20:29:56.874512</dc:date>\n    <dc:format>image/svg+xml</dc:format>\n    <dc:creator>\n     <cc:Agent>\n      <dc:title>Matplotlib v3.4.2, https://matplotlib.org/</dc:title>\n     </cc:Agent>\n    </dc:creator>\n   </cc:Work>\n  </rdf:RDF>\n </metadata>\n <defs>\n  <style type=\"text/css\">*{stroke-linecap:butt;stroke-linejoin:round;}</style>\n </defs>\n <g id=\"figure_1\">\n  <g id=\"patch_1\">\n   <path d=\"M 0 248.518125 \nL 370.942187 248.518125 \nL 370.942187 0 \nL 0 0 \nz\n\" style=\"fill:none;\"/>\n  </g>\n  <g id=\"axes_1\">\n   <g id=\"patch_2\">\n    <path d=\"M 28.942188 224.64 \nL 363.742188 224.64 \nL 363.742188 7.2 \nL 28.942188 7.2 \nz\n\" style=\"fill:#ffffff;\"/>\n   </g>\n   <g id=\"matplotlib.axis_1\">\n    <g id=\"xtick_1\">\n     <g id=\"line2d_1\">\n      <defs>\n       <path d=\"M 0 0 \nL 0 3.5 \n\" id=\"m7741952a31\" style=\"stroke:#000000;stroke-width:0.8;\"/>\n      </defs>\n      <g>\n       <use style=\"stroke:#000000;stroke-width:0.8;\" x=\"44.160369\" xlink:href=\"#m7741952a31\" y=\"224.64\"/>\n      </g>\n     </g>\n     <g id=\"text_1\">\n      <!-- 0 -->\n      <g transform=\"translate(40.979119 239.238437)scale(0.1 -0.1)\">\n       <defs>\n        <path d=\"M 2034 4250 \nQ 1547 4250 1301 3770 \nQ 1056 3291 1056 2328 \nQ 1056 1369 1301 889 \nQ 1547 409 2034 409 \nQ 2525 409 2770 889 \nQ 3016 1369 3016 2328 \nQ 3016 3291 2770 3770 \nQ 2525 4250 2034 4250 \nz\nM 2034 4750 \nQ 2819 4750 3233 4129 \nQ 3647 3509 3647 2328 \nQ 3647 1150 3233 529 \nQ 2819 -91 2034 -91 \nQ 1250 -91 836 529 \nQ 422 1150 422 2328 \nQ 422 3509 836 4129 \nQ 1250 4750 2034 4750 \nz\n\" id=\"DejaVuSans-30\" transform=\"scale(0.015625)\"/>\n       </defs>\n       <use xlink:href=\"#DejaVuSans-30\"/>\n      </g>\n     </g>\n    </g>\n    <g id=\"xtick_2\">\n     <g id=\"line2d_2\">\n      <g>\n       <use style=\"stroke:#000000;stroke-width:0.8;\" x=\"111.796733\" xlink:href=\"#m7741952a31\" y=\"224.64\"/>\n      </g>\n     </g>\n     <g id=\"text_2\">\n      <!-- 2 -->\n      <g transform=\"translate(108.615483 239.238437)scale(0.1 -0.1)\">\n       <defs>\n        <path d=\"M 1228 531 \nL 3431 531 \nL 3431 0 \nL 469 0 \nL 469 531 \nQ 828 903 1448 1529 \nQ 2069 2156 2228 2338 \nQ 2531 2678 2651 2914 \nQ 2772 3150 2772 3378 \nQ 2772 3750 2511 3984 \nQ 2250 4219 1831 4219 \nQ 1534 4219 1204 4116 \nQ 875 4013 500 3803 \nL 500 4441 \nQ 881 4594 1212 4672 \nQ 1544 4750 1819 4750 \nQ 2544 4750 2975 4387 \nQ 3406 4025 3406 3419 \nQ 3406 3131 3298 2873 \nQ 3191 2616 2906 2266 \nQ 2828 2175 2409 1742 \nQ 1991 1309 1228 531 \nz\n\" id=\"DejaVuSans-32\" transform=\"scale(0.015625)\"/>\n       </defs>\n       <use xlink:href=\"#DejaVuSans-32\"/>\n      </g>\n     </g>\n    </g>\n    <g id=\"xtick_3\">\n     <g id=\"line2d_3\">\n      <g>\n       <use style=\"stroke:#000000;stroke-width:0.8;\" x=\"179.433097\" xlink:href=\"#m7741952a31\" y=\"224.64\"/>\n      </g>\n     </g>\n     <g id=\"text_3\">\n      <!-- 4 -->\n      <g transform=\"translate(176.251847 239.238437)scale(0.1 -0.1)\">\n       <defs>\n        <path d=\"M 2419 4116 \nL 825 1625 \nL 2419 1625 \nL 2419 4116 \nz\nM 2253 4666 \nL 3047 4666 \nL 3047 1625 \nL 3713 1625 \nL 3713 1100 \nL 3047 1100 \nL 3047 0 \nL 2419 0 \nL 2419 1100 \nL 313 1100 \nL 313 1709 \nL 2253 4666 \nz\n\" id=\"DejaVuSans-34\" transform=\"scale(0.015625)\"/>\n       </defs>\n       <use xlink:href=\"#DejaVuSans-34\"/>\n      </g>\n     </g>\n    </g>\n    <g id=\"xtick_4\">\n     <g id=\"line2d_4\">\n      <g>\n       <use style=\"stroke:#000000;stroke-width:0.8;\" x=\"247.06946\" xlink:href=\"#m7741952a31\" y=\"224.64\"/>\n      </g>\n     </g>\n     <g id=\"text_4\">\n      <!-- 6 -->\n      <g transform=\"translate(243.88821 239.238437)scale(0.1 -0.1)\">\n       <defs>\n        <path d=\"M 2113 2584 \nQ 1688 2584 1439 2293 \nQ 1191 2003 1191 1497 \nQ 1191 994 1439 701 \nQ 1688 409 2113 409 \nQ 2538 409 2786 701 \nQ 3034 994 3034 1497 \nQ 3034 2003 2786 2293 \nQ 2538 2584 2113 2584 \nz\nM 3366 4563 \nL 3366 3988 \nQ 3128 4100 2886 4159 \nQ 2644 4219 2406 4219 \nQ 1781 4219 1451 3797 \nQ 1122 3375 1075 2522 \nQ 1259 2794 1537 2939 \nQ 1816 3084 2150 3084 \nQ 2853 3084 3261 2657 \nQ 3669 2231 3669 1497 \nQ 3669 778 3244 343 \nQ 2819 -91 2113 -91 \nQ 1303 -91 875 529 \nQ 447 1150 447 2328 \nQ 447 3434 972 4092 \nQ 1497 4750 2381 4750 \nQ 2619 4750 2861 4703 \nQ 3103 4656 3366 4563 \nz\n\" id=\"DejaVuSans-36\" transform=\"scale(0.015625)\"/>\n       </defs>\n       <use xlink:href=\"#DejaVuSans-36\"/>\n      </g>\n     </g>\n    </g>\n    <g id=\"xtick_5\">\n     <g id=\"line2d_5\">\n      <g>\n       <use style=\"stroke:#000000;stroke-width:0.8;\" x=\"314.705824\" xlink:href=\"#m7741952a31\" y=\"224.64\"/>\n      </g>\n     </g>\n     <g id=\"text_5\">\n      <!-- 8 -->\n      <g transform=\"translate(311.524574 239.238437)scale(0.1 -0.1)\">\n       <defs>\n        <path d=\"M 2034 2216 \nQ 1584 2216 1326 1975 \nQ 1069 1734 1069 1313 \nQ 1069 891 1326 650 \nQ 1584 409 2034 409 \nQ 2484 409 2743 651 \nQ 3003 894 3003 1313 \nQ 3003 1734 2745 1975 \nQ 2488 2216 2034 2216 \nz\nM 1403 2484 \nQ 997 2584 770 2862 \nQ 544 3141 544 3541 \nQ 544 4100 942 4425 \nQ 1341 4750 2034 4750 \nQ 2731 4750 3128 4425 \nQ 3525 4100 3525 3541 \nQ 3525 3141 3298 2862 \nQ 3072 2584 2669 2484 \nQ 3125 2378 3379 2068 \nQ 3634 1759 3634 1313 \nQ 3634 634 3220 271 \nQ 2806 -91 2034 -91 \nQ 1263 -91 848 271 \nQ 434 634 434 1313 \nQ 434 1759 690 2068 \nQ 947 2378 1403 2484 \nz\nM 1172 3481 \nQ 1172 3119 1398 2916 \nQ 1625 2713 2034 2713 \nQ 2441 2713 2670 2916 \nQ 2900 3119 2900 3481 \nQ 2900 3844 2670 4047 \nQ 2441 4250 2034 4250 \nQ 1625 4250 1398 4047 \nQ 1172 3844 1172 3481 \nz\n\" id=\"DejaVuSans-38\" transform=\"scale(0.015625)\"/>\n       </defs>\n       <use xlink:href=\"#DejaVuSans-38\"/>\n      </g>\n     </g>\n    </g>\n   </g>\n   <g id=\"matplotlib.axis_2\">\n    <g id=\"ytick_1\">\n     <g id=\"line2d_6\">\n      <defs>\n       <path d=\"M 0 0 \nL -3.5 0 \n\" id=\"m86612b74fa\" style=\"stroke:#000000;stroke-width:0.8;\"/>\n      </defs>\n      <g>\n       <use style=\"stroke:#000000;stroke-width:0.8;\" x=\"28.942188\" xlink:href=\"#m86612b74fa\" y=\"203.214967\"/>\n      </g>\n     </g>\n     <g id=\"text_6\">\n      <!-- −3 -->\n      <g transform=\"translate(7.2 207.014186)scale(0.1 -0.1)\">\n       <defs>\n        <path d=\"M 678 2272 \nL 4684 2272 \nL 4684 1741 \nL 678 1741 \nL 678 2272 \nz\n\" id=\"DejaVuSans-2212\" transform=\"scale(0.015625)\"/>\n        <path d=\"M 2597 2516 \nQ 3050 2419 3304 2112 \nQ 3559 1806 3559 1356 \nQ 3559 666 3084 287 \nQ 2609 -91 1734 -91 \nQ 1441 -91 1130 -33 \nQ 819 25 488 141 \nL 488 750 \nQ 750 597 1062 519 \nQ 1375 441 1716 441 \nQ 2309 441 2620 675 \nQ 2931 909 2931 1356 \nQ 2931 1769 2642 2001 \nQ 2353 2234 1838 2234 \nL 1294 2234 \nL 1294 2753 \nL 1863 2753 \nQ 2328 2753 2575 2939 \nQ 2822 3125 2822 3475 \nQ 2822 3834 2567 4026 \nQ 2313 4219 1838 4219 \nQ 1578 4219 1281 4162 \nQ 984 4106 628 3988 \nL 628 4550 \nQ 988 4650 1302 4700 \nQ 1616 4750 1894 4750 \nQ 2613 4750 3031 4423 \nQ 3450 4097 3450 3541 \nQ 3450 3153 3228 2886 \nQ 3006 2619 2597 2516 \nz\n\" id=\"DejaVuSans-33\" transform=\"scale(0.015625)\"/>\n       </defs>\n       <use xlink:href=\"#DejaVuSans-2212\"/>\n       <use x=\"83.789062\" xlink:href=\"#DejaVuSans-33\"/>\n      </g>\n     </g>\n    </g>\n    <g id=\"ytick_2\">\n     <g id=\"line2d_7\">\n      <g>\n       <use style=\"stroke:#000000;stroke-width:0.8;\" x=\"28.942188\" xlink:href=\"#m86612b74fa\" y=\"165.974154\"/>\n      </g>\n     </g>\n     <g id=\"text_7\">\n      <!-- −2 -->\n      <g transform=\"translate(7.2 169.773372)scale(0.1 -0.1)\">\n       <use xlink:href=\"#DejaVuSans-2212\"/>\n       <use x=\"83.789062\" xlink:href=\"#DejaVuSans-32\"/>\n      </g>\n     </g>\n    </g>\n    <g id=\"ytick_3\">\n     <g id=\"line2d_8\">\n      <g>\n       <use style=\"stroke:#000000;stroke-width:0.8;\" x=\"28.942188\" xlink:href=\"#m86612b74fa\" y=\"128.73334\"/>\n      </g>\n     </g>\n     <g id=\"text_8\">\n      <!-- −1 -->\n      <g transform=\"translate(7.2 132.532559)scale(0.1 -0.1)\">\n       <defs>\n        <path d=\"M 794 531 \nL 1825 531 \nL 1825 4091 \nL 703 3866 \nL 703 4441 \nL 1819 4666 \nL 2450 4666 \nL 2450 531 \nL 3481 531 \nL 3481 0 \nL 794 0 \nL 794 531 \nz\n\" id=\"DejaVuSans-31\" transform=\"scale(0.015625)\"/>\n       </defs>\n       <use xlink:href=\"#DejaVuSans-2212\"/>\n       <use x=\"83.789062\" xlink:href=\"#DejaVuSans-31\"/>\n      </g>\n     </g>\n    </g>\n    <g id=\"ytick_4\">\n     <g id=\"line2d_9\">\n      <g>\n       <use style=\"stroke:#000000;stroke-width:0.8;\" x=\"28.942188\" xlink:href=\"#m86612b74fa\" y=\"91.492527\"/>\n      </g>\n     </g>\n     <g id=\"text_9\">\n      <!-- 0 -->\n      <g transform=\"translate(15.579688 95.291746)scale(0.1 -0.1)\">\n       <use xlink:href=\"#DejaVuSans-30\"/>\n      </g>\n     </g>\n    </g>\n    <g id=\"ytick_5\">\n     <g id=\"line2d_10\">\n      <g>\n       <use style=\"stroke:#000000;stroke-width:0.8;\" x=\"28.942188\" xlink:href=\"#m86612b74fa\" y=\"54.251714\"/>\n      </g>\n     </g>\n     <g id=\"text_10\">\n      <!-- 1 -->\n      <g transform=\"translate(15.579688 58.050932)scale(0.1 -0.1)\">\n       <use xlink:href=\"#DejaVuSans-31\"/>\n      </g>\n     </g>\n    </g>\n    <g id=\"ytick_6\">\n     <g id=\"line2d_11\">\n      <g>\n       <use style=\"stroke:#000000;stroke-width:0.8;\" x=\"28.942188\" xlink:href=\"#m86612b74fa\" y=\"17.0109\"/>\n      </g>\n     </g>\n     <g id=\"text_11\">\n      <!-- 2 -->\n      <g transform=\"translate(15.579688 20.810119)scale(0.1 -0.1)\">\n       <use xlink:href=\"#DejaVuSans-32\"/>\n      </g>\n     </g>\n    </g>\n   </g>\n   <g id=\"line2d_12\">\n    <path clip-path=\"url(#pcad3bab92a)\" d=\"M 44.160369 17.083636 \nL 77.978551 17.301844 \nL 111.796733 18.174676 \nL 145.614915 21.666002 \nL 179.433097 27.999089 \nL 213.251278 49.05066 \nL 247.06946 69.576738 \nL 280.887642 75.992548 \nL 314.705824 85.847182 \nL 348.524006 83.573695 \n\" style=\"fill:none;stroke:#1f77b4;stroke-linecap:square;stroke-width:1.5;\"/>\n   </g>\n   <g id=\"line2d_13\">\n    <path clip-path=\"url(#pcad3bab92a)\" d=\"M 44.160369 91.492527 \nL 77.978551 128.435424 \nL 111.796733 164.412317 \nL 145.614915 196.964421 \nL 179.433097 195.674914 \nL 213.251278 214.756364 \nL 247.06946 196.870571 \nL 280.887642 188.511756 \nL 314.705824 146.305023 \nL 348.524006 180.324418 \n\" style=\"fill:none;stroke:#ff7f0e;stroke-linecap:square;stroke-width:1.5;\"/>\n   </g>\n   <g id=\"line2d_14\">\n    <path clip-path=\"url(#pcad3bab92a)\" d=\"M 44.160369 91.492527 \nL 77.978551 128.435424 \nL 111.796733 164.412317 \nL 145.614915 196.964421 \nL 179.433097 195.674914 \nL 213.251278 214.756364 \nL 247.06946 196.870571 \nL 280.887642 188.511756 \nL 314.705824 146.305023 \nL 348.524006 180.324418 \n\" style=\"fill:none;stroke:#2ca02c;stroke-linecap:square;stroke-width:1.5;\"/>\n   </g>\n   <g id=\"patch_3\">\n    <path d=\"M 28.942188 224.64 \nL 28.942188 7.2 \n\" style=\"fill:none;stroke:#000000;stroke-linecap:square;stroke-linejoin:miter;stroke-width:0.8;\"/>\n   </g>\n   <g id=\"patch_4\">\n    <path d=\"M 363.742188 224.64 \nL 363.742188 7.2 \n\" style=\"fill:none;stroke:#000000;stroke-linecap:square;stroke-linejoin:miter;stroke-width:0.8;\"/>\n   </g>\n   <g id=\"patch_5\">\n    <path d=\"M 28.942188 224.64 \nL 363.742188 224.64 \n\" style=\"fill:none;stroke:#000000;stroke-linecap:square;stroke-linejoin:miter;stroke-width:0.8;\"/>\n   </g>\n   <g id=\"patch_6\">\n    <path d=\"M 28.942188 7.2 \nL 363.742188 7.2 \n\" style=\"fill:none;stroke:#000000;stroke-linecap:square;stroke-linejoin:miter;stroke-width:0.8;\"/>\n   </g>\n   <g id=\"legend_1\">\n    <g id=\"patch_7\">\n     <path d=\"M 219.445312 219.64 \nL 356.742188 219.64 \nQ 358.742188 219.64 358.742188 217.64 \nL 358.742188 174.605625 \nQ 358.742188 172.605625 356.742188 172.605625 \nL 219.445312 172.605625 \nQ 217.445312 172.605625 217.445312 174.605625 \nL 217.445312 217.64 \nQ 217.445312 219.64 219.445312 219.64 \nz\n\" style=\"fill:#ffffff;opacity:0.8;stroke:#cccccc;stroke-linejoin:miter;\"/>\n    </g>\n    <g id=\"line2d_15\">\n     <path d=\"M 221.445312 180.704062 \nL 241.445312 180.704062 \n\" style=\"fill:none;stroke:#1f77b4;stroke-linecap:square;stroke-width:1.5;\"/>\n    </g>\n    <g id=\"line2d_16\"/>\n    <g id=\"text_12\">\n     <!-- L1 norm -->\n     <g transform=\"translate(249.445312 184.204062)scale(0.1 -0.1)\">\n      <defs>\n       <path d=\"M 628 4666 \nL 1259 4666 \nL 1259 531 \nL 3531 531 \nL 3531 0 \nL 628 0 \nL 628 4666 \nz\n\" id=\"DejaVuSans-4c\" transform=\"scale(0.015625)\"/>\n       <path id=\"DejaVuSans-20\" transform=\"scale(0.015625)\"/>\n       <path d=\"M 3513 2113 \nL 3513 0 \nL 2938 0 \nL 2938 2094 \nQ 2938 2591 2744 2837 \nQ 2550 3084 2163 3084 \nQ 1697 3084 1428 2787 \nQ 1159 2491 1159 1978 \nL 1159 0 \nL 581 0 \nL 581 3500 \nL 1159 3500 \nL 1159 2956 \nQ 1366 3272 1645 3428 \nQ 1925 3584 2291 3584 \nQ 2894 3584 3203 3211 \nQ 3513 2838 3513 2113 \nz\n\" id=\"DejaVuSans-6e\" transform=\"scale(0.015625)\"/>\n       <path d=\"M 1959 3097 \nQ 1497 3097 1228 2736 \nQ 959 2375 959 1747 \nQ 959 1119 1226 758 \nQ 1494 397 1959 397 \nQ 2419 397 2687 759 \nQ 2956 1122 2956 1747 \nQ 2956 2369 2687 2733 \nQ 2419 3097 1959 3097 \nz\nM 1959 3584 \nQ 2709 3584 3137 3096 \nQ 3566 2609 3566 1747 \nQ 3566 888 3137 398 \nQ 2709 -91 1959 -91 \nQ 1206 -91 779 398 \nQ 353 888 353 1747 \nQ 353 2609 779 3096 \nQ 1206 3584 1959 3584 \nz\n\" id=\"DejaVuSans-6f\" transform=\"scale(0.015625)\"/>\n       <path d=\"M 2631 2963 \nQ 2534 3019 2420 3045 \nQ 2306 3072 2169 3072 \nQ 1681 3072 1420 2755 \nQ 1159 2438 1159 1844 \nL 1159 0 \nL 581 0 \nL 581 3500 \nL 1159 3500 \nL 1159 2956 \nQ 1341 3275 1631 3429 \nQ 1922 3584 2338 3584 \nQ 2397 3584 2469 3576 \nQ 2541 3569 2628 3553 \nL 2631 2963 \nz\n\" id=\"DejaVuSans-72\" transform=\"scale(0.015625)\"/>\n       <path d=\"M 3328 2828 \nQ 3544 3216 3844 3400 \nQ 4144 3584 4550 3584 \nQ 5097 3584 5394 3201 \nQ 5691 2819 5691 2113 \nL 5691 0 \nL 5113 0 \nL 5113 2094 \nQ 5113 2597 4934 2840 \nQ 4756 3084 4391 3084 \nQ 3944 3084 3684 2787 \nQ 3425 2491 3425 1978 \nL 3425 0 \nL 2847 0 \nL 2847 2094 \nQ 2847 2600 2669 2842 \nQ 2491 3084 2119 3084 \nQ 1678 3084 1418 2786 \nQ 1159 2488 1159 1978 \nL 1159 0 \nL 581 0 \nL 581 3500 \nL 1159 3500 \nL 1159 2956 \nQ 1356 3278 1631 3431 \nQ 1906 3584 2284 3584 \nQ 2666 3584 2933 3390 \nQ 3200 3197 3328 2828 \nz\n\" id=\"DejaVuSans-6d\" transform=\"scale(0.015625)\"/>\n      </defs>\n      <use xlink:href=\"#DejaVuSans-4c\"/>\n      <use x=\"55.712891\" xlink:href=\"#DejaVuSans-31\"/>\n      <use x=\"119.335938\" xlink:href=\"#DejaVuSans-20\"/>\n      <use x=\"151.123047\" xlink:href=\"#DejaVuSans-6e\"/>\n      <use x=\"214.501953\" xlink:href=\"#DejaVuSans-6f\"/>\n      <use x=\"275.683594\" xlink:href=\"#DejaVuSans-72\"/>\n      <use x=\"315.046875\" xlink:href=\"#DejaVuSans-6d\"/>\n     </g>\n    </g>\n    <g id=\"line2d_17\">\n     <path d=\"M 221.445312 195.382187 \nL 241.445312 195.382187 \n\" style=\"fill:none;stroke:#ff7f0e;stroke-linecap:square;stroke-width:1.5;\"/>\n    </g>\n    <g id=\"line2d_18\"/>\n    <g id=\"text_13\">\n     <!-- mutual infomation -->\n     <g transform=\"translate(249.445312 198.882187)scale(0.1 -0.1)\">\n      <defs>\n       <path d=\"M 544 1381 \nL 544 3500 \nL 1119 3500 \nL 1119 1403 \nQ 1119 906 1312 657 \nQ 1506 409 1894 409 \nQ 2359 409 2629 706 \nQ 2900 1003 2900 1516 \nL 2900 3500 \nL 3475 3500 \nL 3475 0 \nL 2900 0 \nL 2900 538 \nQ 2691 219 2414 64 \nQ 2138 -91 1772 -91 \nQ 1169 -91 856 284 \nQ 544 659 544 1381 \nz\nM 1991 3584 \nL 1991 3584 \nz\n\" id=\"DejaVuSans-75\" transform=\"scale(0.015625)\"/>\n       <path d=\"M 1172 4494 \nL 1172 3500 \nL 2356 3500 \nL 2356 3053 \nL 1172 3053 \nL 1172 1153 \nQ 1172 725 1289 603 \nQ 1406 481 1766 481 \nL 2356 481 \nL 2356 0 \nL 1766 0 \nQ 1100 0 847 248 \nQ 594 497 594 1153 \nL 594 3053 \nL 172 3053 \nL 172 3500 \nL 594 3500 \nL 594 4494 \nL 1172 4494 \nz\n\" id=\"DejaVuSans-74\" transform=\"scale(0.015625)\"/>\n       <path d=\"M 2194 1759 \nQ 1497 1759 1228 1600 \nQ 959 1441 959 1056 \nQ 959 750 1161 570 \nQ 1363 391 1709 391 \nQ 2188 391 2477 730 \nQ 2766 1069 2766 1631 \nL 2766 1759 \nL 2194 1759 \nz\nM 3341 1997 \nL 3341 0 \nL 2766 0 \nL 2766 531 \nQ 2569 213 2275 61 \nQ 1981 -91 1556 -91 \nQ 1019 -91 701 211 \nQ 384 513 384 1019 \nQ 384 1609 779 1909 \nQ 1175 2209 1959 2209 \nL 2766 2209 \nL 2766 2266 \nQ 2766 2663 2505 2880 \nQ 2244 3097 1772 3097 \nQ 1472 3097 1187 3025 \nQ 903 2953 641 2809 \nL 641 3341 \nQ 956 3463 1253 3523 \nQ 1550 3584 1831 3584 \nQ 2591 3584 2966 3190 \nQ 3341 2797 3341 1997 \nz\n\" id=\"DejaVuSans-61\" transform=\"scale(0.015625)\"/>\n       <path d=\"M 603 4863 \nL 1178 4863 \nL 1178 0 \nL 603 0 \nL 603 4863 \nz\n\" id=\"DejaVuSans-6c\" transform=\"scale(0.015625)\"/>\n       <path d=\"M 603 3500 \nL 1178 3500 \nL 1178 0 \nL 603 0 \nL 603 3500 \nz\nM 603 4863 \nL 1178 4863 \nL 1178 4134 \nL 603 4134 \nL 603 4863 \nz\n\" id=\"DejaVuSans-69\" transform=\"scale(0.015625)\"/>\n       <path d=\"M 2375 4863 \nL 2375 4384 \nL 1825 4384 \nQ 1516 4384 1395 4259 \nQ 1275 4134 1275 3809 \nL 1275 3500 \nL 2222 3500 \nL 2222 3053 \nL 1275 3053 \nL 1275 0 \nL 697 0 \nL 697 3053 \nL 147 3053 \nL 147 3500 \nL 697 3500 \nL 697 3744 \nQ 697 4328 969 4595 \nQ 1241 4863 1831 4863 \nL 2375 4863 \nz\n\" id=\"DejaVuSans-66\" transform=\"scale(0.015625)\"/>\n      </defs>\n      <use xlink:href=\"#DejaVuSans-6d\"/>\n      <use x=\"97.412109\" xlink:href=\"#DejaVuSans-75\"/>\n      <use x=\"160.791016\" xlink:href=\"#DejaVuSans-74\"/>\n      <use x=\"200\" xlink:href=\"#DejaVuSans-75\"/>\n      <use x=\"263.378906\" xlink:href=\"#DejaVuSans-61\"/>\n      <use x=\"324.658203\" xlink:href=\"#DejaVuSans-6c\"/>\n      <use x=\"352.441406\" xlink:href=\"#DejaVuSans-20\"/>\n      <use x=\"384.228516\" xlink:href=\"#DejaVuSans-69\"/>\n      <use x=\"412.011719\" xlink:href=\"#DejaVuSans-6e\"/>\n      <use x=\"475.390625\" xlink:href=\"#DejaVuSans-66\"/>\n      <use x=\"510.595703\" xlink:href=\"#DejaVuSans-6f\"/>\n      <use x=\"571.777344\" xlink:href=\"#DejaVuSans-6d\"/>\n      <use x=\"669.189453\" xlink:href=\"#DejaVuSans-61\"/>\n      <use x=\"730.46875\" xlink:href=\"#DejaVuSans-74\"/>\n      <use x=\"769.677734\" xlink:href=\"#DejaVuSans-69\"/>\n      <use x=\"797.460938\" xlink:href=\"#DejaVuSans-6f\"/>\n      <use x=\"858.642578\" xlink:href=\"#DejaVuSans-6e\"/>\n     </g>\n    </g>\n    <g id=\"line2d_19\">\n     <path d=\"M 221.445312 210.060312 \nL 241.445312 210.060312 \n\" style=\"fill:none;stroke:#2ca02c;stroke-linecap:square;stroke-width:1.5;\"/>\n    </g>\n    <g id=\"line2d_20\"/>\n    <g id=\"text_14\">\n     <!-- coherent information -->\n     <g transform=\"translate(249.445312 213.560312)scale(0.1 -0.1)\">\n      <defs>\n       <path d=\"M 3122 3366 \nL 3122 2828 \nQ 2878 2963 2633 3030 \nQ 2388 3097 2138 3097 \nQ 1578 3097 1268 2742 \nQ 959 2388 959 1747 \nQ 959 1106 1268 751 \nQ 1578 397 2138 397 \nQ 2388 397 2633 464 \nQ 2878 531 3122 666 \nL 3122 134 \nQ 2881 22 2623 -34 \nQ 2366 -91 2075 -91 \nQ 1284 -91 818 406 \nQ 353 903 353 1747 \nQ 353 2603 823 3093 \nQ 1294 3584 2113 3584 \nQ 2378 3584 2631 3529 \nQ 2884 3475 3122 3366 \nz\n\" id=\"DejaVuSans-63\" transform=\"scale(0.015625)\"/>\n       <path d=\"M 3513 2113 \nL 3513 0 \nL 2938 0 \nL 2938 2094 \nQ 2938 2591 2744 2837 \nQ 2550 3084 2163 3084 \nQ 1697 3084 1428 2787 \nQ 1159 2491 1159 1978 \nL 1159 0 \nL 581 0 \nL 581 4863 \nL 1159 4863 \nL 1159 2956 \nQ 1366 3272 1645 3428 \nQ 1925 3584 2291 3584 \nQ 2894 3584 3203 3211 \nQ 3513 2838 3513 2113 \nz\n\" id=\"DejaVuSans-68\" transform=\"scale(0.015625)\"/>\n       <path d=\"M 3597 1894 \nL 3597 1613 \nL 953 1613 \nQ 991 1019 1311 708 \nQ 1631 397 2203 397 \nQ 2534 397 2845 478 \nQ 3156 559 3463 722 \nL 3463 178 \nQ 3153 47 2828 -22 \nQ 2503 -91 2169 -91 \nQ 1331 -91 842 396 \nQ 353 884 353 1716 \nQ 353 2575 817 3079 \nQ 1281 3584 2069 3584 \nQ 2775 3584 3186 3129 \nQ 3597 2675 3597 1894 \nz\nM 3022 2063 \nQ 3016 2534 2758 2815 \nQ 2500 3097 2075 3097 \nQ 1594 3097 1305 2825 \nQ 1016 2553 972 2059 \nL 3022 2063 \nz\n\" id=\"DejaVuSans-65\" transform=\"scale(0.015625)\"/>\n      </defs>\n      <use xlink:href=\"#DejaVuSans-63\"/>\n      <use x=\"54.980469\" xlink:href=\"#DejaVuSans-6f\"/>\n      <use x=\"116.162109\" xlink:href=\"#DejaVuSans-68\"/>\n      <use x=\"179.541016\" xlink:href=\"#DejaVuSans-65\"/>\n      <use x=\"241.064453\" xlink:href=\"#DejaVuSans-72\"/>\n      <use x=\"279.927734\" xlink:href=\"#DejaVuSans-65\"/>\n      <use x=\"341.451172\" xlink:href=\"#DejaVuSans-6e\"/>\n      <use x=\"404.830078\" xlink:href=\"#DejaVuSans-74\"/>\n      <use x=\"444.039062\" xlink:href=\"#DejaVuSans-20\"/>\n      <use x=\"475.826172\" xlink:href=\"#DejaVuSans-69\"/>\n      <use x=\"503.609375\" xlink:href=\"#DejaVuSans-6e\"/>\n      <use x=\"566.988281\" xlink:href=\"#DejaVuSans-66\"/>\n      <use x=\"602.193359\" xlink:href=\"#DejaVuSans-6f\"/>\n      <use x=\"663.375\" xlink:href=\"#DejaVuSans-72\"/>\n      <use x=\"702.738281\" xlink:href=\"#DejaVuSans-6d\"/>\n      <use x=\"800.150391\" xlink:href=\"#DejaVuSans-61\"/>\n      <use x=\"861.429688\" xlink:href=\"#DejaVuSans-74\"/>\n      <use x=\"900.638672\" xlink:href=\"#DejaVuSans-69\"/>\n      <use x=\"928.421875\" xlink:href=\"#DejaVuSans-6f\"/>\n      <use x=\"989.603516\" xlink:href=\"#DejaVuSans-6e\"/>\n     </g>\n    </g>\n   </g>\n  </g>\n </g>\n <defs>\n  <clipPath id=\"pcad3bab92a\">\n   <rect height=\"217.44\" width=\"334.8\" x=\"28.942188\" y=\"7.2\"/>\n  </clipPath>\n </defs>\n</svg>\n",
      "image/png": "[encoded data removed]"
     },
     "metadata": {
      "needs_background": "light"
     }
    }
   ],
   "source": [
    "# experiment 1\n",
    "# haar random unitary\n",
    "n, k = 9, 1\n",
    "l_max = 9\n",
    "iter_num = 2\n",
    "model = YoungBlackHole(n, k, 'haar')\n",
    "data = simulate(model, l_max, iter_num)\n",
    "save_data(data, \"experiment1\")\n",
    "fig = plot_data(data)"
   ]
  },
  {
   "cell_type": "code",
   "execution_count": 110,
   "metadata": {},
   "outputs": [
    {
     "output_type": "execute_result",
     "data": {
      "text/plain": [
       "(array([[1.99804687, 1.99804687],\n",
       "        [1.9921875 , 1.9921875 ],\n",
       "        [1.96875   , 1.96875   ],\n",
       "        [1.875     , 1.875     ],\n",
       "        [1.71037548, 1.69950914],\n",
       "        [1.16349137, 1.11582871],\n",
       "        [0.62264424, 0.55433269],\n",
       "        [0.54903786, 0.28338108],\n",
       "        [0.17358994, 0.12959061],\n",
       "        [0.26914626, 0.15613081]]),\n",
       " array([[ 0.        ,  0.        ],\n",
       "        [-0.99207686, -0.99192368],\n",
       "        [-1.95716648, -1.95895585],\n",
       "        [-2.82629951, -2.83801791],\n",
       "        [-2.78017702, -2.81488807],\n",
       "        [-3.31143618, -3.30838899],\n",
       "        [-2.82880906, -2.83046823],\n",
       "        [-3.26354917, -1.94682193],\n",
       "        [-1.95260211, -0.9910767 ],\n",
       "        [-2.8175313 , -1.95314276]]),\n",
       " array([[ 0.        ,  0.        ],\n",
       "        [-0.99207686, -0.99192368],\n",
       "        [-1.95716648, -1.95895585],\n",
       "        [-2.82629951, -2.83801791],\n",
       "        [-2.78017702, -2.81488807],\n",
       "        [-3.31143618, -3.30838899],\n",
       "        [-2.82880906, -2.83046823],\n",
       "        [-3.26354917, -1.94682193],\n",
       "        [-1.95260211, -0.9910767 ],\n",
       "        [-2.8175313 , -1.95314276]]))"
      ]
     },
     "metadata": {},
     "execution_count": 110
    }
   ],
   "source": [
    "data"
   ]
  },
  {
   "cell_type": "code",
   "execution_count": null,
   "metadata": {},
   "outputs": [],
   "source": []
  }
 ]
}