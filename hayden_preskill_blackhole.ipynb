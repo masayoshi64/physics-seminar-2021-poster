{
 "cells": [
  {
   "cell_type": "code",
   "execution_count": 28,
   "metadata": {},
   "outputs": [],
   "source": [
    "import qulacs\n",
    "from qulacs import QuantumState, QuantumCircuit\n",
    "from qulacs.state import partial_trace\n",
    "from qulacs.gate import DenseMatrix\n",
    "import numpy as np\n",
    "import numpy.linalg as npl\n",
    "from scipy.linalg import expm\n",
    "import matplotlib.pyplot as plt\n",
    "import random\n",
    "import os\n",
    "from tqdm.notebook import tqdm\n",
    "%matplotlib inline"
   ]
  },
  {
   "cell_type": "code",
   "execution_count": 36,
   "metadata": {},
   "outputs": [],
   "source": [
    "# [0, k): Charlie\n",
    "# [k, 2k): Alice\n",
    "# [2k, n+k): Black hole -> [k, n+k)\n",
    "class YoungBlackHole:\n",
    "    # coupling constant は指定しないとN(0, 1)に従う乱数\n",
    "    def __init__(self, n, k, dynamics, depth=-1, cc=[]):\n",
    "        self.n = n\n",
    "        self.k = k\n",
    "        self.size = n + k\n",
    "        self.dynamics = dynamics\n",
    "        self.depth = depth\n",
    "        self.cc = cc\n",
    "        self.reset()\n",
    "\n",
    "    def reset(self):\n",
    "        n, k = self.n, self.k\n",
    "        dynamics = self.dynamics\n",
    "        depth = self.depth\n",
    "        self.state = QuantumState(n + k)\n",
    "        self.circuit = QuantumCircuit(n + k)\n",
    "        \n",
    "        for i in range(k):\n",
    "            self.circuit.add_H_gate(i)\n",
    "            self.circuit.add_CNOT_gate(i, i + k)\n",
    "        for i in range(n+k):\n",
    "            self.circuit.add_random_unitary_gate([i])\n",
    "\n",
    "        if dynamics == \"lrc\":\n",
    "            self.add_LRC(k, n + k, depth)\n",
    "        elif dynamics == \"haar\":\n",
    "            self.circuit.add_random_unitary_gate(list(range(k, n + k)))\n",
    "        elif dynamics == \"heisenberg\":\n",
    "            self.add_Heisenberg(k, n + k, depth)\n",
    "        elif dynamics == \"fourbody\":\n",
    "            self.add_four_body_Heisenberg(k, n + k, depth)\n",
    "        else:\n",
    "            print(\"invalid dynamics type\")\n",
    "\n",
    "    def update(self):\n",
    "        self.circuit.update_quantum_state(self.state)\n",
    "\n",
    "    def add_LRC(self, l, r, depth):\n",
    "        assert depth >= 0\n",
    "        for d in range(depth):\n",
    "            for i in range(l + d % 2, r - 1, 2):\n",
    "                self.circuit.add_random_unitary_gate([i, i + 1])\n",
    "\n",
    "    def add_Heisenberg(self, l, r, t):\n",
    "        size = r - l\n",
    "        X = np.array([[0, 1], [1, 0]])\n",
    "        Y = np.array([[0, -1j], [1j, 0]])\n",
    "        Z = np.array([[1, 0], [0, -1]])\n",
    "        H = np.zeros((1 << size, 1 << size), dtype=\"complex128\")\n",
    "        for i in range(l, r - 1):\n",
    "            Jx, Jy, Jz = self.get_coupling_constants()\n",
    "            M = Jx * np.kron(X, X) + Jy * np.kron(Y, Y) + Jz * np.kron(Z, Z)\n",
    "            if i > l:\n",
    "                M = np.kron(np.identity(1 << (i - l)), M)\n",
    "            if i + 2 < r:\n",
    "                M = np.kron(M, np.identity(1 << (r - i - 2)))\n",
    "            H += M\n",
    "        U = DenseMatrix(list(range(l, r)), expm(-1j * t * H))\n",
    "        self.circuit.add_gate(U)\n",
    "\n",
    "    def add_four_body_Heisenberg(self, l, r, t):\n",
    "        size = r - l\n",
    "        X = np.array([[0, 1], [1, 0]])\n",
    "        Y = np.array([[0, -1j], [1j, 0]])\n",
    "        Z = np.array([[1, 0], [0, -1]])\n",
    "        H = np.zeros((1 << size, 1 << size), dtype=\"complex128\")\n",
    "        for comb in combinations(range(l, r), 4):\n",
    "            Jx, Jy, Jz = self.get_coupling_constants()\n",
    "            Mx, My, Mz = np.ones(1), np.ones(1), np.ones(1)\n",
    "            for i in range(l, r):\n",
    "                if i in comb:\n",
    "                    Mx = np.kron(Mx, X)\n",
    "                    My = np.kron(My, Y)\n",
    "                    Mz = np.kron(Mz, Z)\n",
    "                else:\n",
    "                    Mx = np.kron(Mx, np.identity(2))\n",
    "                    My = np.kron(My, np.identity(2))\n",
    "                    Mz = np.kron(Mz, np.identity(2))\n",
    "            H += Mx * Jx + My * Jy + Mz * Jz\n",
    "        U = DenseMatrix(list(range(l, r)), expm(-1j * t * H))\n",
    "        self.circuit.add_gate(U)\n",
    "\n",
    "    def get_coupling_constants(self):\n",
    "        if len(self.cc) == 3:\n",
    "            return self.cc\n",
    "        return np.random.randn(3)\n",
    "\n",
    "    # l1 norm\n",
    "    def L1(self, rad_qubits):\n",
    "        n, k = self.n, self.k\n",
    "        l = len(rad_qubits)\n",
    "        mat_size = pow(2, n + k - l)\n",
    "        trace = partial_trace(self.state, rad_qubits)\n",
    "        return npl.norm(trace.get_matrix() - np.identity(mat_size) / mat_size, \"nuc\")\n",
    "\n",
    "    # mutual information\n",
    "    def MI(self, rad_qubits):\n",
    "        n, k = self.n, self.k\n",
    "        l = len(rad_qubits)\n",
    "        b_qubits = list(filter(lambda x: x not in rad_qubits, range(k, n + k)))\n",
    "        AB = partial_trace(self.state, b_qubits)\n",
    "        A = partial_trace(self.state, list(range(k, n + k)))\n",
    "        B = partial_trace(self.state, list(range(k)) + b_qubits)\n",
    "        return self.S(A) + self.S(B) - self.S(AB)\n",
    "\n",
    "    # coherent information\n",
    "    def CI(self, rad_qubits):\n",
    "        n, k = self.n, self.k\n",
    "        b_qubits = list(filter(lambda x: x not in rad_qubits, range(k, n + k)))\n",
    "        AB = partial_trace(self.state, b_qubits)\n",
    "        A = partial_trace(self.state, list(range(k, n + k)))\n",
    "        return self.S(A) - self.S(AB)\n",
    "\n",
    "    # entropy\n",
    "    def S(self, rho):\n",
    "        if rho is None:\n",
    "            return 0\n",
    "        mat = rho.get_matrix()\n",
    "        eig_vals = npl.eigvalsh(mat)\n",
    "        return -(eig_vals * np.log2(eig_vals + 0.000001)).sum()\n"
   ]
  },
  {
   "cell_type": "code",
   "execution_count": 37,
   "metadata": {},
   "outputs": [],
   "source": [
    "# simulator for young black hole\n",
    "def simulate(model, l_max, iter_num):\n",
    "    n, k = model.n, model.k\n",
    "    print(\"type:\", model.dynamics)\n",
    "    print(f\"n={model.n}, k={model.k}\")\n",
    "    print(f\"depth={model.depth}, coupling constant={model.cc}\")\n",
    "    data_MI = np.zeros((l_max + 1, iter_num))\n",
    "    data_L1 = np.zeros((l_max + 1, iter_num))\n",
    "    data_CI = np.zeros((l_max + 1, iter_num))\n",
    "    for i in tqdm(range(iter_num)):\n",
    "        rad_qubits = random.sample(list(range(k, n + k)), n)\n",
    "        model.update()\n",
    "        for l in range(l_max + 1):\n",
    "            data_L1[l][i] = model.L1(rad_qubits[:l])\n",
    "            data_MI[l][i] = model.MI(rad_qubits[:l])\n",
    "            data_CI[l][i] = model.CI(rad_qubits[:l])\n",
    "        model.reset()\n",
    "    return data_L1, data_MI, data_CI\n",
    "\n",
    "# iter_num = 1だとバグるかも\n",
    "def plot_data(data):\n",
    "    fig = plt.figure()\n",
    "    ax = fig.add_subplot()\n",
    "    ax.plot(np.average(data[0], axis=1), label='L1 norm')\n",
    "    ax.plot(np.average(data[1], axis=1), label='mutual infomation')\n",
    "    ax.plot(np.average(data[2], axis=1), label='coherent information')\n",
    "    ax.legend(loc='lower right')\n",
    "    return fig\n",
    "\n",
    "def save_data(data, path):\n",
    "    if not os.path.exists(\"data/\"+path):\n",
    "        os.makedirs(\"data/\"+path)\n",
    "    np.savetxt(\"data/\"+path+\"/data_L1.csv\", data[0], delimiter=',')\n",
    "    np.savetxt(\"data/\"+path+\"/data_MI.csv\", data[1], delimiter=',')\n",
    "    np.savetxt(\"data/\"+path+\"/data_CI.csv\", data[2], delimiter=',')\n",
    "\n",
    "def load_data(path):\n",
    "    return [np.loadtxt(\"data/\"+path+\"/data_L1.csv\", delimiter=','),\n",
    "            np.loadtxt(\"data/\"+path+\"/data_MI.csv\", delimiter=','),\n",
    "            np.loadtxt(\"data/\"+path+\"/data_CI.csv\", delimiter=',')]"
   ]
  },
  {
   "cell_type": "code",
   "execution_count": 38,
   "metadata": {},
   "outputs": [
    {
     "name": "stdout",
     "output_type": "stream",
     "text": [
      "type: haar\n",
      "n=9, k=1\n",
      "depth=-1, coupling constant=[]\n"
     ]
    },
    {
     "data": {
      "application/vnd.jupyter.widget-view+json": {
       "model_id": "27779e8fc5b0433082aa681ec7a9fc36",
       "version_major": 2,
       "version_minor": 0
      },
      "text/plain": [
       "  0%|          | 0/2 [00:00<?, ?it/s]"
      ]
     },
     "metadata": {},
     "output_type": "display_data"
    },
    {
     "name": "stderr",
     "output_type": "stream",
     "text": [
      "Error: drop_qubit(const QuantumState*, std::vector<UINT>): invalid qubit count\n",
      "Error: drop_qubit(const QuantumState*, std::vector<UINT>): invalid qubit count\n"
     ]
    },
    {
     "data": {
      "image/png": "[encoded data removed]",
      "text/plain": [
       "<Figure size 432x288 with 1 Axes>"
      ]
     },
     "metadata": {
      "needs_background": "light"
     },
     "output_type": "display_data"
    }
   ],
   "source": [
    "# experiment 1\n",
    "# haar random unitary\n",
    "n, k = 9, 1\n",
    "l_max = 9\n",
    "iter_num = 2\n",
    "model = YoungBlackHole(n, k, 'haar')\n",
    "data = simulate(model, l_max, iter_num)\n",
    "save_data(data, \"experiment1\")\n",
    "fig = plot_data(data)"
   ]
  },
  {
   "cell_type": "code",
   "execution_count": 42,
   "metadata": {},
   "outputs": [
    {
     "name": "stdout",
     "output_type": "stream",
     "text": [
      "type: heisenberg\n",
      "n=9, k=1\n",
      "depth=1000, coupling constant=[0, 1, 0]\n"
     ]
    },
    {
     "data": {
      "application/vnd.jupyter.widget-view+json": {
       "model_id": "4f1b41b222394f1ca9333ac0efdc6931",
       "version_major": 2,
       "version_minor": 0
      },
      "text/plain": [
       "  0%|          | 0/10 [00:00<?, ?it/s]"
      ]
     },
     "metadata": {},
     "output_type": "display_data"
    },
    {
     "name": "stderr",
     "output_type": "stream",
     "text": [
      "Error: drop_qubit(const QuantumState*, std::vector<UINT>): invalid qubit count\n",
      "Error: drop_qubit(const QuantumState*, std::vector<UINT>): invalid qubit count\n",
      "Error: drop_qubit(const QuantumState*, std::vector<UINT>): invalid qubit count\n",
      "Error: drop_qubit(const QuantumState*, std::vector<UINT>): invalid qubit count\n",
      "Error: drop_qubit(const QuantumState*, std::vector<UINT>): invalid qubit count\n",
      "Error: drop_qubit(const QuantumState*, std::vector<UINT>): invalid qubit count\n",
      "Error: drop_qubit(const QuantumState*, std::vector<UINT>): invalid qubit count\n",
      "Error: drop_qubit(const QuantumState*, std::vector<UINT>): invalid qubit count\n",
      "Error: drop_qubit(const QuantumState*, std::vector<UINT>): invalid qubit count\n",
      "Error: drop_qubit(const QuantumState*, std::vector<UINT>): invalid qubit count\n"
     ]
    },
    {
     "data": {
      "image/png": "[encoded data removed]",
      "text/plain": [
       "<Figure size 432x288 with 1 Axes>"
      ]
     },
     "metadata": {
      "needs_background": "light"
     },
     "output_type": "display_data"
    }
   ],
   "source": [
    "# experiment 2\n",
    "# Heisenberg model\n",
    "n, k = 9, 1\n",
    "l_max = 9\n",
    "iter_num = 10\n",
    "model = YoungBlackHole(n, k, 'heisenberg', depth=1000, cc=[0, 1, 0])\n",
    "data = simulate(model, l_max, iter_num)\n",
    "save_data(data, \"experiment2\")\n",
    "fig = plot_data(data)"
   ]
  },
  {
   "cell_type": "code",
   "execution_count": 41,
   "metadata": {},
   "outputs": [
    {
     "name": "stdout",
     "output_type": "stream",
     "text": [
      "type: heisenberg\n",
      "n=9, k=1\n",
      "depth=1000, coupling constant=[0, 0, 1]\n"
     ]
    },
    {
     "data": {
      "application/vnd.jupyter.widget-view+json": {
       "model_id": "9150014a9b38403fb4d0836a2012cc64",
       "version_major": 2,
       "version_minor": 0
      },
      "text/plain": [
       "  0%|          | 0/10 [00:00<?, ?it/s]"
      ]
     },
     "metadata": {},
     "output_type": "display_data"
    },
    {
     "name": "stderr",
     "output_type": "stream",
     "text": [
      "Error: drop_qubit(const QuantumState*, std::vector<UINT>): invalid qubit count\n",
      "Error: drop_qubit(const QuantumState*, std::vector<UINT>): invalid qubit count\n",
      "Error: drop_qubit(const QuantumState*, std::vector<UINT>): invalid qubit count\n",
      "Error: drop_qubit(const QuantumState*, std::vector<UINT>): invalid qubit count\n",
      "Error: drop_qubit(const QuantumState*, std::vector<UINT>): invalid qubit count\n",
      "Error: drop_qubit(const QuantumState*, std::vector<UINT>): invalid qubit count\n",
      "Error: drop_qubit(const QuantumState*, std::vector<UINT>): invalid qubit count\n",
      "Error: drop_qubit(const QuantumState*, std::vector<UINT>): invalid qubit count\n",
      "Error: drop_qubit(const QuantumState*, std::vector<UINT>): invalid qubit count\n",
      "Error: drop_qubit(const QuantumState*, std::vector<UINT>): invalid qubit count\n"
     ]
    },
    {
     "data": {
      "image/png": "[encoded data removed]",
      "text/plain": [
       "<Figure size 432x288 with 1 Axes>"
      ]
     },
     "metadata": {
      "needs_background": "light"
     },
     "output_type": "display_data"
    }
   ],
   "source": [
    "# experiment 2\n",
    "# Heisenberg model\n",
    "n, k = 9, 1\n",
    "l_max = 9\n",
    "iter_num = 10\n",
    "model = YoungBlackHole(n, k, 'heisenberg', depth=1000, cc=[0, 1, 0])\n",
    "data = simulate(model, l_max, iter_num)\n",
    "save_data(data, \"experiment2\")\n",
    "fig = plot_data(data)"
   ]
  },
  {
   "cell_type": "code",
   "execution_count": null,
   "metadata": {},
   "outputs": [],
   "source": []
  }
 ],
 "metadata": {
  "interpreter": {
   "hash": "b0a1e8560adf94710235dba1b951971d97758daa12df8c3f1be7d2cf09065f46"
  },
  "kernelspec": {
   "display_name": "Python 3.7.1 64-bit ('rinko': venv)",
   "name": "python3"
  },
  "language_info": {
   "codemirror_mode": {
    "name": "ipython",
    "version": 3
   },
   "file_extension": ".py",
   "mimetype": "text/x-python",
   "name": "python",
   "nbconvert_exporter": "python",
   "pygments_lexer": "ipython3",
   "version": "3.7.1"
  },
  "metadata": {
   "interpreter": {
    "hash": "9060eb43163d85b2a9eb18d1d98b2c189a491170f1022b2dfb4e181f36ff0bb1"
   }
  },
  "orig_nbformat": 2
 },
 "nbformat": 4,
 "nbformat_minor": 2
}